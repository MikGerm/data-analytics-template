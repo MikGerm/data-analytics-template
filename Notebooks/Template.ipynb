{
 "cells": [
  {
   "cell_type": "markdown",
   "metadata": {},
   "source": ["# Final Analysis Notebook\n\nThis notebook combines educational attainment data and crime data, cleans them, and generates visualizations."]
  },
  {
   "cell_type": "code",
   "execution_count": null,
   "metadata": {},
   "outputs": [],
   "source": [
    "# Import required libraries\n",
    "import pandas as pd\n",
    "import os\n",
    "import re\n",
    "import matplotlib.pyplot as plt"
   ]
  },
  {
   "cell_type": "markdown",
   "metadata": {},
   "source": ["## 1. Combine Educational Attainment Data"]
  },
  {
   "cell_type": "code",
   "execution_count": null,
   "metadata": {},
   "outputs": [],
   "source": [
    "# Define file paths for educational data\n",
    "edu_file_paths = [\n",
    "    \"Educational_Attainment2018.csv\",\n",
    "    \"Educational_Attainment2019.csv\",\n",
    "    \"Educational_Attainment2020.csv\",\n",
    "    \"Educational_Attainment2021.csv\",\n",
    "    \"Educational_Attainment2022.csv\"\n",
    "]\n",
    "\n",
    "# Combine educational data\n",
    "edu_combined_df = pd.DataFrame()\n",
    "for file in edu_file_paths:\n",
    "    if os.path.exists(file):\n",
    "        df = pd.read_csv(file)\n",
    "        year = file.split(\"Attainment\")[1].split(\".\")[0]\n",
    "        df['year'] = int(year)\n",
    "        edu_combined_df = pd.concat([edu_combined_df, df], ignore_index=True)\n",
    "\n",
    "# Save combined educational data\n",
    "edu_combined_df.to_csv(\"Educational_Attainment_Combined.csv\", index=False)\n",
    "print(\"Combined Educational Data Saved!\")"
   ]
  },
  {
   "cell_type": "markdown",
   "metadata": {},
   "source": ["## 2. Combine Crime Data"]
  },
  {
   "cell_type": "code",
   "execution_count": null,
   "metadata": {},
   "outputs": [],
   "source": [
    "# Define file paths for crime data\n",
    "crime_file_paths = [\n",
    "    \"HoustonLargestPD.csv\",\n",
    "    \"ChicagoLargestPD.csv\",\n",
    "    \"NewYorkLargestPD.csv\",\n",
    "    \"PhoenixLargestPD.csv\",\n",
    "    \"LosAngelesLargestPD.csv\"\n",
    "]\n",
    "\n",
    "# Combine crime data\n",
    "crime_combined_df = pd.DataFrame()\n",
    "for file in crime_file_paths:\n",
    "    if os.path.exists(file):\n",
    "        df = pd.read_csv(file)\n",
    "        crime_combined_df = pd.concat([crime_combined_df, df], ignore_index=True)\n",
    "\n",
    "# Save combined crime data\n",
    "crime_combined_df.to_csv(\"Raw_Crime_Data.csv\", index=False)\n",
    "print(\"Combined Crime Data Saved!\")"
   ]
  },
  {
   "cell_type": "markdown",
   "metadata": {},
   "source": ["## 3. Clean Combined Crime Data"]
  },
  {
   "cell_type": "code",
   "execution_count": null,
   "metadata": {},
   "outputs": [],
   "source": [
    "crime_df = pd.read_csv(\"Raw_Crime_Data.csv\")\n",
    "\n",
    "# Extract city and year columns\n",
    "year_columns = crime_df.filter(regex=r\"\\\\d{4}\").columns\n",
    "crime_df = crime_df.melt(id_vars=[\"series\"], value_vars=year_columns, var_name=\"year\", value_name=\"value\")\n",
    "\n",
    "# Clean and save crime data\n",
    "crime_df = crime_df.dropna(subset=[\"year\", \"value\"])\n",
    "crime_df.to_csv(\"Cleaned_Crime_Data.csv\", index=False)\n",
    "print(\"Cleaned Crime Data Saved!\")"
   ]
  },
  {
   "cell_type": "markdown",
   "metadata": {},
   "source": ["## 4. Plot Crime Trends"]
  },
  {
   "cell_type": "code",
   "execution_count": null,
   "metadata": {},
   "outputs": [],
   "source": [
    "crime_summary = crime_df.groupby(\"year\")[\"value\"].sum().reset_index()\n",
    "plt.figure(figsize=(10, 6))\n",
    "plt.plot(crime_summary[\"year\"], crime_summary[\"value\"], marker='o', color='red')\n",
    "plt.title(\"Crime Trends Over Time\")\n",
    "plt.xlabel(\"Year\")\n",
    "plt.ylabel(\"Total Crime Values\")\n",
    "plt.grid(True)\n",
    "plt.show()"
   ]
  },
  {
   "cell_type": "markdown",
   "metadata": {},
   "source": ["## 5. Plot Educational Data Trends"]
  },
  {
   "cell_type": "code",
   "execution_count": null,
   "metadata": {},
   "outputs": [],
   "source": [
    "edu_summary = edu_combined_df.groupby(\"year\")[\"value\"].sum().reset_index()\n",
    "plt.figure(figsize=(10, 6))\n",
    "plt.plot(edu_summary[\"year\"], edu_summary[\"value\"], marker='o', color='blue')\n",
    "plt.title(\"Educational Data Trends Over Time\")\n",
    "plt.xlabel(\"Year\")\n",
    "plt.ylabel(\"Total Educational Values\")\n",
    "plt.grid(True)\n",
    "plt.show()"
   ]
  }
 ],
 "metadata": {
  "kernelspec": {
   "display_name": "Python 3",
   "language": "python",
   "name": "python3"
  },
  "language_info": {
   "codemirror_mode": {
    "name": "ipython",
    "version": 3
   },
   "file_extension": ".py",
   "mimetype": "text/x-python",
   "name": "python",
   "nbconvert_exporter": "python",
   "pygments_lexer": "ipython3",
   "version": "3.8.8"
  }
 },
 "nbformat": 4,
 "nbformat_minor": 5
}
